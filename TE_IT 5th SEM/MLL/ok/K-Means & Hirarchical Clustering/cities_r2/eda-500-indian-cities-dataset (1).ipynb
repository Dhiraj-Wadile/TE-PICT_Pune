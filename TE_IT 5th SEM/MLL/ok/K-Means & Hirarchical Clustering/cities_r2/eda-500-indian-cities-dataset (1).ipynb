{
 "cells": [
  {
   "cell_type": "code",
   "execution_count": 1,
   "metadata": {
    "_cell_guid": "45412694-ab88-263f-13d8-fc3012cf2de6"
   },
   "outputs": [
    {
     "name": "stdout",
     "output_type": "stream",
     "text": [
      "cities_r2.csv\n",
      "\n"
     ]
    }
   ],
   "source": [
    "# This Python 3 environment comes with many helpful analytics libraries installed\n",
    "# It is defined by the kaggle/python docker image: https://github.com/kaggle/docker-python\n",
    "# For example, here's several helpful packages to load in \n",
    "\n",
    "import numpy as np # linear algebra\n",
    "import pandas as pd # data processing, CSV file I/O (e.g. pd.read_csv)\n",
    "\n",
    "# Input data files are available in the \"../input/\" directory.\n",
    "# For example, running this (by clicking run or pressing Shift+Enter) will list the files in the input directory\n",
    "\n",
    "from subprocess import check_output\n",
    "print(check_output([\"ls\", \"../input\"]).decode(\"utf8\"))\n",
    "\n",
    "# Any results you write to the current directory are saved as output."
   ]
  },
  {
   "cell_type": "code",
   "execution_count": 2,
   "metadata": {
    "_cell_guid": "506c71fc-541c-3f35-4bba-808c48f87b7b"
   },
   "outputs": [],
   "source": [
    "import os\n",
    "os.getcwd()\n",
    "cities = pd.read_csv(\"../input/cities_r2.csv\")"
   ]
  },
  {
   "cell_type": "code",
   "execution_count": 3,
   "metadata": {
    "_cell_guid": "1a343366-5a8d-a63d-f354-5d2b0be06b69"
   },
   "outputs": [
    {
     "data": {
      "text/html": [
       "<div>\n",
       "<table border=\"1\" class=\"dataframe\">\n",
       "  <thead>\n",
       "    <tr style=\"text-align: right;\">\n",
       "      <th></th>\n",
       "      <th>name_of_city</th>\n",
       "      <th>state_code</th>\n",
       "      <th>state_name</th>\n",
       "      <th>dist_code</th>\n",
       "      <th>population_total</th>\n",
       "      <th>population_male</th>\n",
       "      <th>population_female</th>\n",
       "      <th>0-6_population_total</th>\n",
       "      <th>0-6_population_male</th>\n",
       "      <th>0-6_population_female</th>\n",
       "      <th>...</th>\n",
       "      <th>literates_female</th>\n",
       "      <th>sex_ratio</th>\n",
       "      <th>child_sex_ratio</th>\n",
       "      <th>effective_literacy_rate_total</th>\n",
       "      <th>effective_literacy_rate_male</th>\n",
       "      <th>effective_literacy_rate_female</th>\n",
       "      <th>location</th>\n",
       "      <th>total_graduates</th>\n",
       "      <th>male_graduates</th>\n",
       "      <th>female_graduates</th>\n",
       "    </tr>\n",
       "  </thead>\n",
       "  <tbody>\n",
       "    <tr>\n",
       "      <th>0</th>\n",
       "      <td>Abohar</td>\n",
       "      <td>3</td>\n",
       "      <td>PUNJAB</td>\n",
       "      <td>9</td>\n",
       "      <td>145238</td>\n",
       "      <td>76840</td>\n",
       "      <td>68398</td>\n",
       "      <td>15870</td>\n",
       "      <td>8587</td>\n",
       "      <td>7283</td>\n",
       "      <td>...</td>\n",
       "      <td>44972</td>\n",
       "      <td>890</td>\n",
       "      <td>848</td>\n",
       "      <td>79.86</td>\n",
       "      <td>85.49</td>\n",
       "      <td>73.59</td>\n",
       "      <td>30.1452928,74.1993043</td>\n",
       "      <td>16287</td>\n",
       "      <td>8612</td>\n",
       "      <td>7675</td>\n",
       "    </tr>\n",
       "    <tr>\n",
       "      <th>1</th>\n",
       "      <td>Achalpur</td>\n",
       "      <td>27</td>\n",
       "      <td>MAHARASHTRA</td>\n",
       "      <td>7</td>\n",
       "      <td>112293</td>\n",
       "      <td>58256</td>\n",
       "      <td>54037</td>\n",
       "      <td>11810</td>\n",
       "      <td>6186</td>\n",
       "      <td>5624</td>\n",
       "      <td>...</td>\n",
       "      <td>43086</td>\n",
       "      <td>928</td>\n",
       "      <td>909</td>\n",
       "      <td>91.99</td>\n",
       "      <td>94.77</td>\n",
       "      <td>89.00</td>\n",
       "      <td>21.257584,77.5086754</td>\n",
       "      <td>8863</td>\n",
       "      <td>5269</td>\n",
       "      <td>3594</td>\n",
       "    </tr>\n",
       "    <tr>\n",
       "      <th>2</th>\n",
       "      <td>Adilabad</td>\n",
       "      <td>28</td>\n",
       "      <td>ANDHRA PRADESH</td>\n",
       "      <td>1</td>\n",
       "      <td>117388</td>\n",
       "      <td>59232</td>\n",
       "      <td>58156</td>\n",
       "      <td>13103</td>\n",
       "      <td>6731</td>\n",
       "      <td>6372</td>\n",
       "      <td>...</td>\n",
       "      <td>37660</td>\n",
       "      <td>982</td>\n",
       "      <td>947</td>\n",
       "      <td>80.51</td>\n",
       "      <td>88.18</td>\n",
       "      <td>72.73</td>\n",
       "      <td>19.0809075,79.560344</td>\n",
       "      <td>10565</td>\n",
       "      <td>6797</td>\n",
       "      <td>3768</td>\n",
       "    </tr>\n",
       "    <tr>\n",
       "      <th>3</th>\n",
       "      <td>Adityapur</td>\n",
       "      <td>20</td>\n",
       "      <td>JHARKHAND</td>\n",
       "      <td>24</td>\n",
       "      <td>173988</td>\n",
       "      <td>91495</td>\n",
       "      <td>82493</td>\n",
       "      <td>23042</td>\n",
       "      <td>12063</td>\n",
       "      <td>10979</td>\n",
       "      <td>...</td>\n",
       "      <td>54515</td>\n",
       "      <td>902</td>\n",
       "      <td>910</td>\n",
       "      <td>83.46</td>\n",
       "      <td>89.98</td>\n",
       "      <td>76.23</td>\n",
       "      <td>22.7834741,86.1576889</td>\n",
       "      <td>19225</td>\n",
       "      <td>12189</td>\n",
       "      <td>7036</td>\n",
       "    </tr>\n",
       "    <tr>\n",
       "      <th>4</th>\n",
       "      <td>Adoni</td>\n",
       "      <td>28</td>\n",
       "      <td>ANDHRA PRADESH</td>\n",
       "      <td>21</td>\n",
       "      <td>166537</td>\n",
       "      <td>82743</td>\n",
       "      <td>83794</td>\n",
       "      <td>18406</td>\n",
       "      <td>9355</td>\n",
       "      <td>9051</td>\n",
       "      <td>...</td>\n",
       "      <td>45089</td>\n",
       "      <td>1013</td>\n",
       "      <td>968</td>\n",
       "      <td>68.38</td>\n",
       "      <td>76.58</td>\n",
       "      <td>60.33</td>\n",
       "      <td>15.6322227,77.2728368</td>\n",
       "      <td>11902</td>\n",
       "      <td>7871</td>\n",
       "      <td>4031</td>\n",
       "    </tr>\n",
       "  </tbody>\n",
       "</table>\n",
       "<p>5 rows × 22 columns</p>\n",
       "</div>"
      ],
      "text/plain": [
       "  name_of_city  state_code      state_name  dist_code  population_total  \\\n",
       "0      Abohar            3          PUNJAB          9            145238   \n",
       "1    Achalpur           27     MAHARASHTRA          7            112293   \n",
       "2    Adilabad           28  ANDHRA PRADESH          1            117388   \n",
       "3   Adityapur           20       JHARKHAND         24            173988   \n",
       "4       Adoni           28  ANDHRA PRADESH         21            166537   \n",
       "\n",
       "   population_male  population_female  0-6_population_total  \\\n",
       "0            76840              68398                 15870   \n",
       "1            58256              54037                 11810   \n",
       "2            59232              58156                 13103   \n",
       "3            91495              82493                 23042   \n",
       "4            82743              83794                 18406   \n",
       "\n",
       "   0-6_population_male  0-6_population_female        ...         \\\n",
       "0                 8587                   7283        ...          \n",
       "1                 6186                   5624        ...          \n",
       "2                 6731                   6372        ...          \n",
       "3                12063                  10979        ...          \n",
       "4                 9355                   9051        ...          \n",
       "\n",
       "   literates_female  sex_ratio  child_sex_ratio  \\\n",
       "0             44972        890              848   \n",
       "1             43086        928              909   \n",
       "2             37660        982              947   \n",
       "3             54515        902              910   \n",
       "4             45089       1013              968   \n",
       "\n",
       "   effective_literacy_rate_total  effective_literacy_rate_male  \\\n",
       "0                          79.86                         85.49   \n",
       "1                          91.99                         94.77   \n",
       "2                          80.51                         88.18   \n",
       "3                          83.46                         89.98   \n",
       "4                          68.38                         76.58   \n",
       "\n",
       "   effective_literacy_rate_female               location  total_graduates  \\\n",
       "0                           73.59  30.1452928,74.1993043            16287   \n",
       "1                           89.00   21.257584,77.5086754             8863   \n",
       "2                           72.73   19.0809075,79.560344            10565   \n",
       "3                           76.23  22.7834741,86.1576889            19225   \n",
       "4                           60.33  15.6322227,77.2728368            11902   \n",
       "\n",
       "  male_graduates  female_graduates  \n",
       "0           8612              7675  \n",
       "1           5269              3594  \n",
       "2           6797              3768  \n",
       "3          12189              7036  \n",
       "4           7871              4031  \n",
       "\n",
       "[5 rows x 22 columns]"
      ]
     },
     "execution_count": 3,
     "metadata": {},
     "output_type": "execute_result"
    }
   ],
   "source": [
    "cities.head(5)"
   ]
  },
  {
   "cell_type": "code",
   "execution_count": 4,
   "metadata": {
    "_cell_guid": "a1f95a04-5314-6ea4-aea9-25e441d631a9"
   },
   "outputs": [
    {
     "name": "stdout",
     "output_type": "stream",
     "text": [
      "<class 'pandas.core.frame.DataFrame'>\n",
      "RangeIndex: 493 entries, 0 to 492\n",
      "Data columns (total 22 columns):\n",
      "name_of_city                      493 non-null object\n",
      "state_code                        493 non-null int64\n",
      "state_name                        493 non-null object\n",
      "dist_code                         493 non-null int64\n",
      "population_total                  493 non-null int64\n",
      "population_male                   493 non-null int64\n",
      "population_female                 493 non-null int64\n",
      "0-6_population_total              493 non-null int64\n",
      "0-6_population_male               493 non-null int64\n",
      "0-6_population_female             493 non-null int64\n",
      "literates_total                   493 non-null int64\n",
      "literates_male                    493 non-null int64\n",
      "literates_female                  493 non-null int64\n",
      "sex_ratio                         493 non-null int64\n",
      "child_sex_ratio                   493 non-null int64\n",
      "effective_literacy_rate_total     493 non-null float64\n",
      "effective_literacy_rate_male      493 non-null float64\n",
      "effective_literacy_rate_female    493 non-null float64\n",
      "location                          493 non-null object\n",
      "total_graduates                   493 non-null int64\n",
      "male_graduates                    493 non-null int64\n",
      "female_graduates                  493 non-null int64\n",
      "dtypes: float64(3), int64(16), object(3)\n",
      "memory usage: 84.8+ KB\n"
     ]
    }
   ],
   "source": [
    "cities.info()\n",
    "## -> No null values present"
   ]
  },
  {
   "cell_type": "code",
   "execution_count": 5,
   "metadata": {
    "_cell_guid": "0da47891-5f7f-bf7a-6602-28a22378fde6"
   },
   "outputs": [
    {
     "data": {
      "text/plain": [
       "(493, 22)"
      ]
     },
     "execution_count": 5,
     "metadata": {},
     "output_type": "execute_result"
    }
   ],
   "source": [
    "cities.shape"
   ]
  },
  {
   "cell_type": "code",
   "execution_count": 6,
   "metadata": {
    "_cell_guid": "a5fc23a2-30df-3cd2-2985-822b3acaff46"
   },
   "outputs": [
    {
     "name": "stdout",
     "output_type": "stream",
     "text": [
      "['PUNJAB' 'MAHARASHTRA' 'ANDHRA PRADESH' 'JHARKHAND' 'TRIPURA'\n",
      " 'UTTAR PRADESH' 'GUJARAT' 'MIZORAM' 'RAJASTHAN' 'TAMIL NADU' 'KERALA'\n",
      " 'HARYANA' 'CHHATTISGARH' 'JAMMU & KASHMIR' 'BIHAR' 'WEST BENGAL'\n",
      " 'KARNATAKA' 'ORISSA' 'MADHYA PRADESH' 'NCT OF DELHI' 'CHANDIGARH'\n",
      " 'UTTARAKHAND' 'ASSAM' 'NAGALAND' 'MANIPUR ' 'PUDUCHERRY'\n",
      " 'ANDAMAN & NICOBAR ISLANDS' 'MEGHALAYA' 'HIMACHAL PRADESH']\n",
      "29\n",
      "[ 9  7  1 24 21 15 26  3 47  5 11 12 44  6  2  4 13 22 14 29 33 19 60 49  8\n",
      " 62 39 27 30 20 54 18 10 17 23 50 38 16 28 31 32 99 59 70 46 41 34 64 52 57\n",
      " 25 63 37 35 71 36 61 68 65 48 66]\n",
      "61\n"
     ]
    }
   ],
   "source": [
    "# List no. of unique states\n",
    "print(cities['state_name'].unique())\n",
    "print(len(cities['state_name'].unique()))\n",
    "\n",
    "print(cities['dist_code'].unique())\n",
    "print(len(cities['dist_code'].unique()))"
   ]
  },
  {
   "cell_type": "code",
   "execution_count": 7,
   "metadata": {
    "_cell_guid": "cf3c2330-8987-2093-25e7-ae229a9c6423"
   },
   "outputs": [
    {
     "name": "stdout",
     "output_type": "stream",
     "text": [
      "                           population_total\n",
      "state_name                                 \n",
      "MAHARASHTRA                        37722136\n",
      "UTTAR PRADESH                      25302925\n",
      "ANDHRA PRADESH                     18171615\n",
      "WEST BENGAL                        18063509\n",
      "GUJARAT                            17835049\n",
      "KARNATAKA                          15799896\n",
      "TAMIL NADU                         13879395\n",
      "NCT OF DELHI                       13481997\n",
      "MADHYA PRADESH                     11023091\n",
      "RAJASTHAN                          10443016\n",
      "BIHAR                               6714516\n",
      "HARYANA                             5952223\n",
      "PUNJAB                              5821876\n",
      "JHARKHAND                           4278259\n",
      "CHHATTISGARH                        3137918\n",
      "ORISSA                              3003234\n",
      "KERALA                              2755973\n",
      "JAMMU & KASHMIR                     1804987\n",
      "ASSAM                               1391154\n",
      "UTTARAKHAND                         1340397\n",
      "CHANDIGARH                           960787\n",
      "PUDUCHERRY                           541801\n",
      "TRIPURA                              399688\n",
      "MIZORAM                              291822\n",
      "MANIPUR                              264986\n",
      "HIMACHAL PRADESH                     169758\n",
      "MEGHALAYA                            143007\n",
      "NAGALAND                             123777\n",
      "ANDAMAN & NICOBAR ISLANDS            100608\n"
     ]
    }
   ],
   "source": [
    "# Population at state level\n",
    "population_state = cities[['state_name','population_total']].groupby('state_name').sum().sort_values('population_total',ascending=False)\n",
    "print(population_state)"
   ]
  },
  {
   "cell_type": "code",
   "execution_count": 8,
   "metadata": {
    "_cell_guid": "2e0a213c-ea29-9370-7dd4-c2fe0177d23f"
   },
   "outputs": [
    {
     "data": {
      "text/plain": [
       "<matplotlib.axes._subplots.AxesSubplot at 0x7efff09803c8>"
      ]
     },
     "execution_count": 8,
     "metadata": {},
     "output_type": "execute_result"
    },
    {
     "data": {
      "image/png": "[encoded data removed]",
      "text/plain": [
       "<matplotlib.figure.Figure at 0x7efff09cd5f8>"
      ]
     },
     "metadata": {},
     "output_type": "display_data"
    }
   ],
   "source": [
    "colr = ['red','green','yellow','blue']\n",
    "population_state.plot(kind='bar',color=colr)"
   ]
  },
  {
   "cell_type": "code",
   "execution_count": 9,
   "metadata": {
    "_cell_guid": "9f34c8ad-6a79-8623-574c-e6ba59f235ee"
   },
   "outputs": [
    {
     "data": {
      "text/html": [
       "<div>\n",
       "<table border=\"1\" class=\"dataframe\">\n",
       "  <thead>\n",
       "    <tr style=\"text-align: right;\">\n",
       "      <th></th>\n",
       "      <th>name_of_city</th>\n",
       "      <th>population_female</th>\n",
       "    </tr>\n",
       "  </thead>\n",
       "  <tbody>\n",
       "    <tr>\n",
       "      <th>185</th>\n",
       "      <td>Greater Mumbai</td>\n",
       "      <td>5741632</td>\n",
       "    </tr>\n",
       "    <tr>\n",
       "      <th>141</th>\n",
       "      <td>Delhi</td>\n",
       "      <td>5136473</td>\n",
       "    </tr>\n",
       "    <tr>\n",
       "      <th>72</th>\n",
       "      <td>Bengaluru</td>\n",
       "      <td>4024671</td>\n",
       "    </tr>\n",
       "    <tr>\n",
       "      <th>184</th>\n",
       "      <td>Greater Hyderabad</td>\n",
       "      <td>3309168</td>\n",
       "    </tr>\n",
       "    <tr>\n",
       "      <th>7</th>\n",
       "      <td>Ahmadabad</td>\n",
       "      <td>2634716</td>\n",
       "    </tr>\n",
       "  </tbody>\n",
       "</table>\n",
       "</div>"
      ],
      "text/plain": [
       "           name_of_city  population_female\n",
       "185     Greater Mumbai             5741632\n",
       "141              Delhi             5136473\n",
       "72            Bengaluru            4024671\n",
       "184  Greater Hyderabad             3309168\n",
       "7            Ahmadabad             2634716"
      ]
     },
     "execution_count": 9,
     "metadata": {},
     "output_type": "execute_result"
    }
   ],
   "source": [
    "# Top 5 cities with highest female population\n",
    "cities[['name_of_city','population_female']].sort_values(by='population_female',ascending=False).head(5)\n",
    "# -> Its Mumbai and Delhi at top"
   ]
  },
  {
   "cell_type": "code",
   "execution_count": 1,
   "metadata": {
    "_cell_guid": "b462af1a-aea6-d2d7-f2a2-75356e11e19c"
   },
   "outputs": [],
   "source": [
    "# Top 5 states with highest literacy rate \n",
    "## Pending if any one can help would be great \n",
    "#cities[['state_name','effective_literacy_rate_female']].groupby('state_name').sum().apply()"
   ]
  },
  {
   "cell_type": "code",
   "execution_count": 3,
   "metadata": {},
   "outputs": [
    {
     "ename": "ValueError",
     "evalue": "Length n of condensed distance matrix 'y' must be a binomial coefficient, i.e.there must be a k such that (k \\choose 2)=n)!",
     "output_type": "error",
     "traceback": [
      "\u001b[1;31m---------------------------------------------------------------------------\u001b[0m",
      "\u001b[1;31mValueError\u001b[0m                                Traceback (most recent call last)",
      "Cell \u001b[1;32mIn[3], line 13\u001b[0m\n\u001b[0;32m     10\u001b[0m population_state \u001b[38;5;241m=\u001b[39m pd\u001b[38;5;241m.\u001b[39mDataFrame(data)\n\u001b[0;32m     12\u001b[0m \u001b[38;5;66;03m# Perform hierarchical clustering\u001b[39;00m\n\u001b[1;32m---> 13\u001b[0m linkage_matrix \u001b[38;5;241m=\u001b[39m hierarchy\u001b[38;5;241m.\u001b[39mlinkage(population_state[\u001b[38;5;124m'\u001b[39m\u001b[38;5;124mPopulation\u001b[39m\u001b[38;5;124m'\u001b[39m], method\u001b[38;5;241m=\u001b[39m\u001b[38;5;124m'\u001b[39m\u001b[38;5;124mward\u001b[39m\u001b[38;5;124m'\u001b[39m)\n\u001b[0;32m     15\u001b[0m \u001b[38;5;66;03m# Plot dendrogram\u001b[39;00m\n\u001b[0;32m     16\u001b[0m dendrogram \u001b[38;5;241m=\u001b[39m hierarchy\u001b[38;5;241m.\u001b[39mdendrogram(linkage_matrix, labels\u001b[38;5;241m=\u001b[39mpopulation_state[\u001b[38;5;124m'\u001b[39m\u001b[38;5;124mState\u001b[39m\u001b[38;5;124m'\u001b[39m])\n",
      "File \u001b[1;32m~\\anaconda3\\Lib\\site-packages\\scipy\\cluster\\hierarchy.py:1049\u001b[0m, in \u001b[0;36mlinkage\u001b[1;34m(y, method, metric, optimal_ordering)\u001b[0m\n\u001b[0;32m   1046\u001b[0m y \u001b[38;5;241m=\u001b[39m _convert_to_double(np\u001b[38;5;241m.\u001b[39masarray(y, order\u001b[38;5;241m=\u001b[39m\u001b[38;5;124m'\u001b[39m\u001b[38;5;124mc\u001b[39m\u001b[38;5;124m'\u001b[39m))\n\u001b[0;32m   1048\u001b[0m \u001b[38;5;28;01mif\u001b[39;00m y\u001b[38;5;241m.\u001b[39mndim \u001b[38;5;241m==\u001b[39m \u001b[38;5;241m1\u001b[39m:\n\u001b[1;32m-> 1049\u001b[0m     distance\u001b[38;5;241m.\u001b[39mis_valid_y(y, throw\u001b[38;5;241m=\u001b[39m\u001b[38;5;28;01mTrue\u001b[39;00m, name\u001b[38;5;241m=\u001b[39m\u001b[38;5;124m'\u001b[39m\u001b[38;5;124my\u001b[39m\u001b[38;5;124m'\u001b[39m)\n\u001b[0;32m   1050\u001b[0m     [y] \u001b[38;5;241m=\u001b[39m _copy_arrays_if_base_present([y])\n\u001b[0;32m   1051\u001b[0m \u001b[38;5;28;01melif\u001b[39;00m y\u001b[38;5;241m.\u001b[39mndim \u001b[38;5;241m==\u001b[39m \u001b[38;5;241m2\u001b[39m:\n",
      "File \u001b[1;32m~\\anaconda3\\Lib\\site-packages\\scipy\\spatial\\distance.py:2506\u001b[0m, in \u001b[0;36mis_valid_y\u001b[1;34m(y, warning, throw, name)\u001b[0m\n\u001b[0;32m   2504\u001b[0m \u001b[38;5;28;01mif\u001b[39;00m (d \u001b[38;5;241m*\u001b[39m (d \u001b[38;5;241m-\u001b[39m \u001b[38;5;241m1\u001b[39m) \u001b[38;5;241m/\u001b[39m \u001b[38;5;241m2\u001b[39m) \u001b[38;5;241m!=\u001b[39m n:\n\u001b[0;32m   2505\u001b[0m     \u001b[38;5;28;01mif\u001b[39;00m name:\n\u001b[1;32m-> 2506\u001b[0m         \u001b[38;5;28;01mraise\u001b[39;00m \u001b[38;5;167;01mValueError\u001b[39;00m((\u001b[38;5;124m'\u001b[39m\u001b[38;5;124mLength n of condensed distance matrix \u001b[39m\u001b[38;5;124m'\u001b[39m\n\u001b[0;32m   2507\u001b[0m                           \u001b[38;5;124m'\u001b[39m\u001b[38;5;130;01m\\'\u001b[39;00m\u001b[38;5;132;01m%s\u001b[39;00m\u001b[38;5;130;01m\\'\u001b[39;00m\u001b[38;5;124m must be a binomial coefficient, i.e.\u001b[39m\u001b[38;5;124m'\u001b[39m\n\u001b[0;32m   2508\u001b[0m                           \u001b[38;5;124m'\u001b[39m\u001b[38;5;124mthere must be a k such that \u001b[39m\u001b[38;5;124m'\u001b[39m\n\u001b[0;32m   2509\u001b[0m                           \u001b[38;5;124m'\u001b[39m\u001b[38;5;124m(k \u001b[39m\u001b[38;5;130;01m\\\\\u001b[39;00m\u001b[38;5;124mchoose 2)=n)!\u001b[39m\u001b[38;5;124m'\u001b[39m) \u001b[38;5;241m%\u001b[39m name)\n\u001b[0;32m   2510\u001b[0m     \u001b[38;5;28;01melse\u001b[39;00m:\n\u001b[0;32m   2511\u001b[0m         \u001b[38;5;28;01mraise\u001b[39;00m \u001b[38;5;167;01mValueError\u001b[39;00m(\u001b[38;5;124m'\u001b[39m\u001b[38;5;124mLength n of condensed distance matrix must \u001b[39m\u001b[38;5;124m'\u001b[39m\n\u001b[0;32m   2512\u001b[0m                          \u001b[38;5;124m'\u001b[39m\u001b[38;5;124mbe a binomial coefficient, i.e. there must \u001b[39m\u001b[38;5;124m'\u001b[39m\n\u001b[0;32m   2513\u001b[0m                          \u001b[38;5;124m'\u001b[39m\u001b[38;5;124mbe a k such that (k \u001b[39m\u001b[38;5;130;01m\\\\\u001b[39;00m\u001b[38;5;124mchoose 2)=n)!\u001b[39m\u001b[38;5;124m'\u001b[39m)\n",
      "\u001b[1;31mValueError\u001b[0m: Length n of condensed distance matrix 'y' must be a binomial coefficient, i.e.there must be a k such that (k \\choose 2)=n)!"
     ]
    }
   ],
   "source": [
    "import matplotlib.pyplot as plt\n",
    "from scipy.cluster import hierarchy\n",
    "import pandas as pd\n",
    "\n",
    "# Assuming you have a DataFrame called 'population_state' with the data\n",
    "\n",
    "# Example data\n",
    "data = {'State': ['State A', 'State B', 'State C', 'State D'],\n",
    "        'Population': [10, 15, 8, 12]}\n",
    "population_state = pd.DataFrame(data)\n",
    "\n",
    "# Perform hierarchical clustering\n",
    "linkage_matrix = hierarchy.linkage(population_state['Population'], method='ward')\n",
    "\n",
    "# Plot dendrogram\n",
    "dendrogram = hierarchy.dendrogram(linkage_matrix, labels=population_state['State'])\n",
    "\n",
    "# Show the plot\n",
    "plt.title('Dendrogram')\n",
    "plt.xlabel('States')\n",
    "plt.ylabel('Distance')\n",
    "plt.show()\n"
   ]
  },
  {
   "cell_type": "code",
   "execution_count": null,
   "metadata": {},
   "outputs": [],
   "source": []
  }
 ],
 "metadata": {
  "_change_revision": 135,
  "_is_fork": false,
  "kernelspec": {
   "display_name": "Python 3 (ipykernel)",
   "language": "python",
   "name": "python3"
  },
  "language_info": {
   "codemirror_mode": {
    "name": "ipython",
    "version": 3
   },
   "file_extension": ".py",
   "mimetype": "text/x-python",
   "name": "python",
   "nbconvert_exporter": "python",
   "pygments_lexer": "ipython3",
   "version": "3.11.3"
  }
 },
 "nbformat": 4,
 "nbformat_minor": 1
}
