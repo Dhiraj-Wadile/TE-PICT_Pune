{
 "cells": [
  {
   "cell_type": "code",
   "execution_count": 1,
   "id": "ab090886",
   "metadata": {},
   "outputs": [],
   "source": [
    "import numpy as np\n",
    "import pandas as pd"
   ]
  },
  {
   "cell_type": "code",
   "execution_count": 2,
   "id": "70d3d92e",
   "metadata": {},
   "outputs": [],
   "source": [
    "df = pd.read_csv(\"cities_r2.csv\")"
   ]
  },
  {
   "cell_type": "code",
   "execution_count": 3,
   "id": "0e0eb742",
   "metadata": {
    "scrolled": false
   },
   "outputs": [
    {
     "data": {
      "text/html": [
       "<div>\n",
       "<style scoped>\n",
       "    .dataframe tbody tr th:only-of-type {\n",
       "        vertical-align: middle;\n",
       "    }\n",
       "\n",
       "    .dataframe tbody tr th {\n",
       "        vertical-align: top;\n",
       "    }\n",
       "\n",
       "    .dataframe thead th {\n",
       "        text-align: right;\n",
       "    }\n",
       "</style>\n",
       "<table border=\"1\" class=\"dataframe\">\n",
       "  <thead>\n",
       "    <tr style=\"text-align: right;\">\n",
       "      <th></th>\n",
       "      <th>name_of_city</th>\n",
       "      <th>state_code</th>\n",
       "      <th>state_name</th>\n",
       "      <th>dist_code</th>\n",
       "      <th>population_total</th>\n",
       "      <th>population_male</th>\n",
       "      <th>population_female</th>\n",
       "      <th>0-6_population_total</th>\n",
       "      <th>0-6_population_male</th>\n",
       "      <th>0-6_population_female</th>\n",
       "      <th>...</th>\n",
       "      <th>literates_female</th>\n",
       "      <th>sex_ratio</th>\n",
       "      <th>child_sex_ratio</th>\n",
       "      <th>effective_literacy_rate_total</th>\n",
       "      <th>effective_literacy_rate_male</th>\n",
       "      <th>effective_literacy_rate_female</th>\n",
       "      <th>location</th>\n",
       "      <th>total_graduates</th>\n",
       "      <th>male_graduates</th>\n",
       "      <th>female_graduates</th>\n",
       "    </tr>\n",
       "  </thead>\n",
       "  <tbody>\n",
       "    <tr>\n",
       "      <th>0</th>\n",
       "      <td>Abohar</td>\n",
       "      <td>3</td>\n",
       "      <td>PUNJAB</td>\n",
       "      <td>9</td>\n",
       "      <td>145238</td>\n",
       "      <td>76840</td>\n",
       "      <td>68398</td>\n",
       "      <td>15870</td>\n",
       "      <td>8587</td>\n",
       "      <td>7283</td>\n",
       "      <td>...</td>\n",
       "      <td>44972</td>\n",
       "      <td>890</td>\n",
       "      <td>848</td>\n",
       "      <td>79.86</td>\n",
       "      <td>85.49</td>\n",
       "      <td>73.59</td>\n",
       "      <td>30.1452928,74.1993043</td>\n",
       "      <td>16287</td>\n",
       "      <td>8612</td>\n",
       "      <td>7675</td>\n",
       "    </tr>\n",
       "    <tr>\n",
       "      <th>1</th>\n",
       "      <td>Achalpur</td>\n",
       "      <td>27</td>\n",
       "      <td>MAHARASHTRA</td>\n",
       "      <td>7</td>\n",
       "      <td>112293</td>\n",
       "      <td>58256</td>\n",
       "      <td>54037</td>\n",
       "      <td>11810</td>\n",
       "      <td>6186</td>\n",
       "      <td>5624</td>\n",
       "      <td>...</td>\n",
       "      <td>43086</td>\n",
       "      <td>928</td>\n",
       "      <td>909</td>\n",
       "      <td>91.99</td>\n",
       "      <td>94.77</td>\n",
       "      <td>89.00</td>\n",
       "      <td>21.257584,77.5086754</td>\n",
       "      <td>8863</td>\n",
       "      <td>5269</td>\n",
       "      <td>3594</td>\n",
       "    </tr>\n",
       "    <tr>\n",
       "      <th>2</th>\n",
       "      <td>Adilabad</td>\n",
       "      <td>28</td>\n",
       "      <td>ANDHRA PRADESH</td>\n",
       "      <td>1</td>\n",
       "      <td>117388</td>\n",
       "      <td>59232</td>\n",
       "      <td>58156</td>\n",
       "      <td>13103</td>\n",
       "      <td>6731</td>\n",
       "      <td>6372</td>\n",
       "      <td>...</td>\n",
       "      <td>37660</td>\n",
       "      <td>982</td>\n",
       "      <td>947</td>\n",
       "      <td>80.51</td>\n",
       "      <td>88.18</td>\n",
       "      <td>72.73</td>\n",
       "      <td>19.0809075,79.560344</td>\n",
       "      <td>10565</td>\n",
       "      <td>6797</td>\n",
       "      <td>3768</td>\n",
       "    </tr>\n",
       "    <tr>\n",
       "      <th>3</th>\n",
       "      <td>Adityapur</td>\n",
       "      <td>20</td>\n",
       "      <td>JHARKHAND</td>\n",
       "      <td>24</td>\n",
       "      <td>173988</td>\n",
       "      <td>91495</td>\n",
       "      <td>82493</td>\n",
       "      <td>23042</td>\n",
       "      <td>12063</td>\n",
       "      <td>10979</td>\n",
       "      <td>...</td>\n",
       "      <td>54515</td>\n",
       "      <td>902</td>\n",
       "      <td>910</td>\n",
       "      <td>83.46</td>\n",
       "      <td>89.98</td>\n",
       "      <td>76.23</td>\n",
       "      <td>22.7834741,86.1576889</td>\n",
       "      <td>19225</td>\n",
       "      <td>12189</td>\n",
       "      <td>7036</td>\n",
       "    </tr>\n",
       "    <tr>\n",
       "      <th>4</th>\n",
       "      <td>Adoni</td>\n",
       "      <td>28</td>\n",
       "      <td>ANDHRA PRADESH</td>\n",
       "      <td>21</td>\n",
       "      <td>166537</td>\n",
       "      <td>82743</td>\n",
       "      <td>83794</td>\n",
       "      <td>18406</td>\n",
       "      <td>9355</td>\n",
       "      <td>9051</td>\n",
       "      <td>...</td>\n",
       "      <td>45089</td>\n",
       "      <td>1013</td>\n",
       "      <td>968</td>\n",
       "      <td>68.38</td>\n",
       "      <td>76.58</td>\n",
       "      <td>60.33</td>\n",
       "      <td>15.6322227,77.2728368</td>\n",
       "      <td>11902</td>\n",
       "      <td>7871</td>\n",
       "      <td>4031</td>\n",
       "    </tr>\n",
       "    <tr>\n",
       "      <th>...</th>\n",
       "      <td>...</td>\n",
       "      <td>...</td>\n",
       "      <td>...</td>\n",
       "      <td>...</td>\n",
       "      <td>...</td>\n",
       "      <td>...</td>\n",
       "      <td>...</td>\n",
       "      <td>...</td>\n",
       "      <td>...</td>\n",
       "      <td>...</td>\n",
       "      <td>...</td>\n",
       "      <td>...</td>\n",
       "      <td>...</td>\n",
       "      <td>...</td>\n",
       "      <td>...</td>\n",
       "      <td>...</td>\n",
       "      <td>...</td>\n",
       "      <td>...</td>\n",
       "      <td>...</td>\n",
       "      <td>...</td>\n",
       "      <td>...</td>\n",
       "    </tr>\n",
       "    <tr>\n",
       "      <th>488</th>\n",
       "      <td>Vizianagaram</td>\n",
       "      <td>28</td>\n",
       "      <td>ANDHRA PRADESH</td>\n",
       "      <td>12</td>\n",
       "      <td>227533</td>\n",
       "      <td>111596</td>\n",
       "      <td>115937</td>\n",
       "      <td>20487</td>\n",
       "      <td>10495</td>\n",
       "      <td>9992</td>\n",
       "      <td>...</td>\n",
       "      <td>80306</td>\n",
       "      <td>1039</td>\n",
       "      <td>952</td>\n",
       "      <td>81.85</td>\n",
       "      <td>88.18</td>\n",
       "      <td>75.80</td>\n",
       "      <td>18.1066576,83.3955506</td>\n",
       "      <td>30656</td>\n",
       "      <td>19173</td>\n",
       "      <td>11483</td>\n",
       "    </tr>\n",
       "    <tr>\n",
       "      <th>489</th>\n",
       "      <td>Warangal</td>\n",
       "      <td>28</td>\n",
       "      <td>ANDHRA PRADESH</td>\n",
       "      <td>9</td>\n",
       "      <td>620116</td>\n",
       "      <td>310400</td>\n",
       "      <td>309716</td>\n",
       "      <td>55392</td>\n",
       "      <td>28434</td>\n",
       "      <td>26958</td>\n",
       "      <td>...</td>\n",
       "      <td>217136</td>\n",
       "      <td>998</td>\n",
       "      <td>948</td>\n",
       "      <td>84.16</td>\n",
       "      <td>91.54</td>\n",
       "      <td>76.79</td>\n",
       "      <td>17.9689008,79.5940544</td>\n",
       "      <td>109613</td>\n",
       "      <td>69507</td>\n",
       "      <td>40106</td>\n",
       "    </tr>\n",
       "    <tr>\n",
       "      <th>490</th>\n",
       "      <td>Wardha</td>\n",
       "      <td>27</td>\n",
       "      <td>MAHARASHTRA</td>\n",
       "      <td>8</td>\n",
       "      <td>105543</td>\n",
       "      <td>53241</td>\n",
       "      <td>52302</td>\n",
       "      <td>9754</td>\n",
       "      <td>5139</td>\n",
       "      <td>4615</td>\n",
       "      <td>...</td>\n",
       "      <td>43339</td>\n",
       "      <td>982</td>\n",
       "      <td>898</td>\n",
       "      <td>94.05</td>\n",
       "      <td>97.19</td>\n",
       "      <td>90.88</td>\n",
       "      <td>20.745319,78.6021946</td>\n",
       "      <td>19363</td>\n",
       "      <td>10645</td>\n",
       "      <td>8718</td>\n",
       "    </tr>\n",
       "    <tr>\n",
       "      <th>491</th>\n",
       "      <td>Yamunanagar</td>\n",
       "      <td>6</td>\n",
       "      <td>HARYANA</td>\n",
       "      <td>3</td>\n",
       "      <td>216628</td>\n",
       "      <td>115404</td>\n",
       "      <td>101224</td>\n",
       "      <td>22905</td>\n",
       "      <td>12556</td>\n",
       "      <td>10349</td>\n",
       "      <td>...</td>\n",
       "      <td>74255</td>\n",
       "      <td>877</td>\n",
       "      <td>824</td>\n",
       "      <td>85.91</td>\n",
       "      <td>89.61</td>\n",
       "      <td>81.71</td>\n",
       "      <td>30.1290485,77.2673901</td>\n",
       "      <td>29803</td>\n",
       "      <td>14349</td>\n",
       "      <td>15454</td>\n",
       "    </tr>\n",
       "    <tr>\n",
       "      <th>492</th>\n",
       "      <td>Yavatmal</td>\n",
       "      <td>27</td>\n",
       "      <td>MAHARASHTRA</td>\n",
       "      <td>14</td>\n",
       "      <td>116714</td>\n",
       "      <td>58717</td>\n",
       "      <td>57997</td>\n",
       "      <td>11081</td>\n",
       "      <td>5894</td>\n",
       "      <td>5187</td>\n",
       "      <td>...</td>\n",
       "      <td>46561</td>\n",
       "      <td>988</td>\n",
       "      <td>880</td>\n",
       "      <td>91.81</td>\n",
       "      <td>95.45</td>\n",
       "      <td>88.17</td>\n",
       "      <td>20.3887937,78.1204073</td>\n",
       "      <td>13511</td>\n",
       "      <td>7397</td>\n",
       "      <td>6114</td>\n",
       "    </tr>\n",
       "  </tbody>\n",
       "</table>\n",
       "<p>493 rows × 22 columns</p>\n",
       "</div>"
      ],
      "text/plain": [
       "      name_of_city  state_code      state_name  dist_code  population_total  \\\n",
       "0          Abohar            3          PUNJAB          9            145238   \n",
       "1        Achalpur           27     MAHARASHTRA          7            112293   \n",
       "2        Adilabad           28  ANDHRA PRADESH          1            117388   \n",
       "3       Adityapur           20       JHARKHAND         24            173988   \n",
       "4           Adoni           28  ANDHRA PRADESH         21            166537   \n",
       "..             ...         ...             ...        ...               ...   \n",
       "488  Vizianagaram           28  ANDHRA PRADESH         12            227533   \n",
       "489      Warangal           28  ANDHRA PRADESH          9            620116   \n",
       "490        Wardha           27     MAHARASHTRA          8            105543   \n",
       "491   Yamunanagar            6         HARYANA          3            216628   \n",
       "492      Yavatmal           27     MAHARASHTRA         14            116714   \n",
       "\n",
       "     population_male  population_female  0-6_population_total  \\\n",
       "0              76840              68398                 15870   \n",
       "1              58256              54037                 11810   \n",
       "2              59232              58156                 13103   \n",
       "3              91495              82493                 23042   \n",
       "4              82743              83794                 18406   \n",
       "..               ...                ...                   ...   \n",
       "488           111596             115937                 20487   \n",
       "489           310400             309716                 55392   \n",
       "490            53241              52302                  9754   \n",
       "491           115404             101224                 22905   \n",
       "492            58717              57997                 11081   \n",
       "\n",
       "     0-6_population_male  0-6_population_female  ...  literates_female  \\\n",
       "0                   8587                   7283  ...             44972   \n",
       "1                   6186                   5624  ...             43086   \n",
       "2                   6731                   6372  ...             37660   \n",
       "3                  12063                  10979  ...             54515   \n",
       "4                   9355                   9051  ...             45089   \n",
       "..                   ...                    ...  ...               ...   \n",
       "488                10495                   9992  ...             80306   \n",
       "489                28434                  26958  ...            217136   \n",
       "490                 5139                   4615  ...             43339   \n",
       "491                12556                  10349  ...             74255   \n",
       "492                 5894                   5187  ...             46561   \n",
       "\n",
       "     sex_ratio  child_sex_ratio  effective_literacy_rate_total  \\\n",
       "0          890              848                          79.86   \n",
       "1          928              909                          91.99   \n",
       "2          982              947                          80.51   \n",
       "3          902              910                          83.46   \n",
       "4         1013              968                          68.38   \n",
       "..         ...              ...                            ...   \n",
       "488       1039              952                          81.85   \n",
       "489        998              948                          84.16   \n",
       "490        982              898                          94.05   \n",
       "491        877              824                          85.91   \n",
       "492        988              880                          91.81   \n",
       "\n",
       "     effective_literacy_rate_male  effective_literacy_rate_female  \\\n",
       "0                           85.49                           73.59   \n",
       "1                           94.77                           89.00   \n",
       "2                           88.18                           72.73   \n",
       "3                           89.98                           76.23   \n",
       "4                           76.58                           60.33   \n",
       "..                            ...                             ...   \n",
       "488                         88.18                           75.80   \n",
       "489                         91.54                           76.79   \n",
       "490                         97.19                           90.88   \n",
       "491                         89.61                           81.71   \n",
       "492                         95.45                           88.17   \n",
       "\n",
       "                  location  total_graduates male_graduates  female_graduates  \n",
       "0    30.1452928,74.1993043            16287           8612              7675  \n",
       "1     21.257584,77.5086754             8863           5269              3594  \n",
       "2     19.0809075,79.560344            10565           6797              3768  \n",
       "3    22.7834741,86.1576889            19225          12189              7036  \n",
       "4    15.6322227,77.2728368            11902           7871              4031  \n",
       "..                     ...              ...            ...               ...  \n",
       "488  18.1066576,83.3955506            30656          19173             11483  \n",
       "489  17.9689008,79.5940544           109613          69507             40106  \n",
       "490   20.745319,78.6021946            19363          10645              8718  \n",
       "491  30.1290485,77.2673901            29803          14349             15454  \n",
       "492  20.3887937,78.1204073            13511           7397              6114  \n",
       "\n",
       "[493 rows x 22 columns]"
      ]
     },
     "execution_count": 3,
     "metadata": {},
     "output_type": "execute_result"
    }
   ],
   "source": [
    "df"
   ]
  },
  {
   "cell_type": "code",
   "execution_count": 4,
   "id": "036dcb34",
   "metadata": {},
   "outputs": [
    {
     "data": {
      "text/plain": [
       "(493, 22)"
      ]
     },
     "execution_count": 4,
     "metadata": {},
     "output_type": "execute_result"
    }
   ],
   "source": [
    "df.shape"
   ]
  },
  {
   "cell_type": "code",
   "execution_count": 5,
   "id": "bea0f684",
   "metadata": {},
   "outputs": [
    {
     "data": {
      "text/plain": [
       "name_of_city                      0\n",
       "state_code                        0\n",
       "state_name                        0\n",
       "dist_code                         0\n",
       "population_total                  0\n",
       "population_male                   0\n",
       "population_female                 0\n",
       "0-6_population_total              0\n",
       "0-6_population_male               0\n",
       "0-6_population_female             0\n",
       "literates_total                   0\n",
       "literates_male                    0\n",
       "literates_female                  0\n",
       "sex_ratio                         0\n",
       "child_sex_ratio                   0\n",
       "effective_literacy_rate_total     0\n",
       "effective_literacy_rate_male      0\n",
       "effective_literacy_rate_female    0\n",
       "location                          0\n",
       "total_graduates                   0\n",
       "male_graduates                    0\n",
       "female_graduates                  0\n",
       "dtype: int64"
      ]
     },
     "execution_count": 5,
     "metadata": {},
     "output_type": "execute_result"
    }
   ],
   "source": [
    "df.isnull().sum()"
   ]
  },
  {
   "cell_type": "code",
   "execution_count": 6,
   "id": "b0a1138e",
   "metadata": {},
   "outputs": [],
   "source": [
    "x=df[['total_graduates']]\n"
   ]
  },
  {
   "cell_type": "code",
   "execution_count": 7,
   "id": "320832dd",
   "metadata": {},
   "outputs": [],
   "source": [
    "from sklearn.cluster import KMeans,AgglomerativeClustering"
   ]
  },
  {
   "cell_type": "code",
   "execution_count": 8,
   "id": "036297e2",
   "metadata": {},
   "outputs": [
    {
     "name": "stderr",
     "output_type": "stream",
     "text": [
      "C:\\Users\\dmwad\\anaconda3\\Lib\\site-packages\\sklearn\\cluster\\_kmeans.py:870: FutureWarning: The default value of `n_init` will change from 10 to 'auto' in 1.4. Set the value of `n_init` explicitly to suppress the warning\n",
      "  warnings.warn(\n",
      "C:\\Users\\dmwad\\anaconda3\\Lib\\site-packages\\sklearn\\cluster\\_kmeans.py:1382: UserWarning: KMeans is known to have a memory leak on Windows with MKL, when there are less chunks than available threads. You can avoid it by setting the environment variable OMP_NUM_THREADS=2.\n",
      "  warnings.warn(\n",
      "C:\\Users\\dmwad\\anaconda3\\Lib\\site-packages\\sklearn\\cluster\\_kmeans.py:870: FutureWarning: The default value of `n_init` will change from 10 to 'auto' in 1.4. Set the value of `n_init` explicitly to suppress the warning\n",
      "  warnings.warn(\n",
      "C:\\Users\\dmwad\\anaconda3\\Lib\\site-packages\\sklearn\\cluster\\_kmeans.py:1382: UserWarning: KMeans is known to have a memory leak on Windows with MKL, when there are less chunks than available threads. You can avoid it by setting the environment variable OMP_NUM_THREADS=2.\n",
      "  warnings.warn(\n",
      "C:\\Users\\dmwad\\anaconda3\\Lib\\site-packages\\sklearn\\cluster\\_kmeans.py:870: FutureWarning: The default value of `n_init` will change from 10 to 'auto' in 1.4. Set the value of `n_init` explicitly to suppress the warning\n",
      "  warnings.warn(\n",
      "C:\\Users\\dmwad\\anaconda3\\Lib\\site-packages\\sklearn\\cluster\\_kmeans.py:1382: UserWarning: KMeans is known to have a memory leak on Windows with MKL, when there are less chunks than available threads. You can avoid it by setting the environment variable OMP_NUM_THREADS=2.\n",
      "  warnings.warn(\n",
      "C:\\Users\\dmwad\\anaconda3\\Lib\\site-packages\\sklearn\\cluster\\_kmeans.py:870: FutureWarning: The default value of `n_init` will change from 10 to 'auto' in 1.4. Set the value of `n_init` explicitly to suppress the warning\n",
      "  warnings.warn(\n",
      "C:\\Users\\dmwad\\anaconda3\\Lib\\site-packages\\sklearn\\cluster\\_kmeans.py:1382: UserWarning: KMeans is known to have a memory leak on Windows with MKL, when there are less chunks than available threads. You can avoid it by setting the environment variable OMP_NUM_THREADS=2.\n",
      "  warnings.warn(\n",
      "C:\\Users\\dmwad\\anaconda3\\Lib\\site-packages\\sklearn\\cluster\\_kmeans.py:870: FutureWarning: The default value of `n_init` will change from 10 to 'auto' in 1.4. Set the value of `n_init` explicitly to suppress the warning\n",
      "  warnings.warn(\n",
      "C:\\Users\\dmwad\\anaconda3\\Lib\\site-packages\\sklearn\\cluster\\_kmeans.py:1382: UserWarning: KMeans is known to have a memory leak on Windows with MKL, when there are less chunks than available threads. You can avoid it by setting the environment variable OMP_NUM_THREADS=2.\n",
      "  warnings.warn(\n",
      "C:\\Users\\dmwad\\anaconda3\\Lib\\site-packages\\sklearn\\cluster\\_kmeans.py:870: FutureWarning: The default value of `n_init` will change from 10 to 'auto' in 1.4. Set the value of `n_init` explicitly to suppress the warning\n",
      "  warnings.warn(\n",
      "C:\\Users\\dmwad\\anaconda3\\Lib\\site-packages\\sklearn\\cluster\\_kmeans.py:1382: UserWarning: KMeans is known to have a memory leak on Windows with MKL, when there are less chunks than available threads. You can avoid it by setting the environment variable OMP_NUM_THREADS=2.\n",
      "  warnings.warn(\n",
      "C:\\Users\\dmwad\\anaconda3\\Lib\\site-packages\\sklearn\\cluster\\_kmeans.py:870: FutureWarning: The default value of `n_init` will change from 10 to 'auto' in 1.4. Set the value of `n_init` explicitly to suppress the warning\n",
      "  warnings.warn(\n",
      "C:\\Users\\dmwad\\anaconda3\\Lib\\site-packages\\sklearn\\cluster\\_kmeans.py:1382: UserWarning: KMeans is known to have a memory leak on Windows with MKL, when there are less chunks than available threads. You can avoid it by setting the environment variable OMP_NUM_THREADS=2.\n",
      "  warnings.warn(\n",
      "C:\\Users\\dmwad\\anaconda3\\Lib\\site-packages\\sklearn\\cluster\\_kmeans.py:870: FutureWarning: The default value of `n_init` will change from 10 to 'auto' in 1.4. Set the value of `n_init` explicitly to suppress the warning\n",
      "  warnings.warn(\n",
      "C:\\Users\\dmwad\\anaconda3\\Lib\\site-packages\\sklearn\\cluster\\_kmeans.py:1382: UserWarning: KMeans is known to have a memory leak on Windows with MKL, when there are less chunks than available threads. You can avoid it by setting the environment variable OMP_NUM_THREADS=2.\n",
      "  warnings.warn(\n",
      "C:\\Users\\dmwad\\anaconda3\\Lib\\site-packages\\sklearn\\cluster\\_kmeans.py:870: FutureWarning: The default value of `n_init` will change from 10 to 'auto' in 1.4. Set the value of `n_init` explicitly to suppress the warning\n",
      "  warnings.warn(\n",
      "C:\\Users\\dmwad\\anaconda3\\Lib\\site-packages\\sklearn\\cluster\\_kmeans.py:1382: UserWarning: KMeans is known to have a memory leak on Windows with MKL, when there are less chunks than available threads. You can avoid it by setting the environment variable OMP_NUM_THREADS=2.\n",
      "  warnings.warn(\n",
      "C:\\Users\\dmwad\\anaconda3\\Lib\\site-packages\\sklearn\\cluster\\_kmeans.py:870: FutureWarning: The default value of `n_init` will change from 10 to 'auto' in 1.4. Set the value of `n_init` explicitly to suppress the warning\n",
      "  warnings.warn(\n",
      "C:\\Users\\dmwad\\anaconda3\\Lib\\site-packages\\sklearn\\cluster\\_kmeans.py:1382: UserWarning: KMeans is known to have a memory leak on Windows with MKL, when there are less chunks than available threads. You can avoid it by setting the environment variable OMP_NUM_THREADS=2.\n",
      "  warnings.warn(\n",
      "C:\\Users\\dmwad\\anaconda3\\Lib\\site-packages\\sklearn\\cluster\\_kmeans.py:870: FutureWarning: The default value of `n_init` will change from 10 to 'auto' in 1.4. Set the value of `n_init` explicitly to suppress the warning\n",
      "  warnings.warn(\n",
      "C:\\Users\\dmwad\\anaconda3\\Lib\\site-packages\\sklearn\\cluster\\_kmeans.py:1382: UserWarning: KMeans is known to have a memory leak on Windows with MKL, when there are less chunks than available threads. You can avoid it by setting the environment variable OMP_NUM_THREADS=2.\n",
      "  warnings.warn(\n",
      "C:\\Users\\dmwad\\anaconda3\\Lib\\site-packages\\sklearn\\cluster\\_kmeans.py:870: FutureWarning: The default value of `n_init` will change from 10 to 'auto' in 1.4. Set the value of `n_init` explicitly to suppress the warning\n",
      "  warnings.warn(\n",
      "C:\\Users\\dmwad\\anaconda3\\Lib\\site-packages\\sklearn\\cluster\\_kmeans.py:1382: UserWarning: KMeans is known to have a memory leak on Windows with MKL, when there are less chunks than available threads. You can avoid it by setting the environment variable OMP_NUM_THREADS=2.\n",
      "  warnings.warn(\n",
      "C:\\Users\\dmwad\\anaconda3\\Lib\\site-packages\\sklearn\\cluster\\_kmeans.py:870: FutureWarning: The default value of `n_init` will change from 10 to 'auto' in 1.4. Set the value of `n_init` explicitly to suppress the warning\n",
      "  warnings.warn(\n",
      "C:\\Users\\dmwad\\anaconda3\\Lib\\site-packages\\sklearn\\cluster\\_kmeans.py:1382: UserWarning: KMeans is known to have a memory leak on Windows with MKL, when there are less chunks than available threads. You can avoid it by setting the environment variable OMP_NUM_THREADS=2.\n",
      "  warnings.warn(\n",
      "C:\\Users\\dmwad\\anaconda3\\Lib\\site-packages\\sklearn\\cluster\\_kmeans.py:870: FutureWarning: The default value of `n_init` will change from 10 to 'auto' in 1.4. Set the value of `n_init` explicitly to suppress the warning\n",
      "  warnings.warn(\n",
      "C:\\Users\\dmwad\\anaconda3\\Lib\\site-packages\\sklearn\\cluster\\_kmeans.py:1382: UserWarning: KMeans is known to have a memory leak on Windows with MKL, when there are less chunks than available threads. You can avoid it by setting the environment variable OMP_NUM_THREADS=2.\n",
      "  warnings.warn(\n"
     ]
    }
   ],
   "source": [
    "#sse\n",
    "\n",
    "sse=[]\n",
    "for k in range(1,15):\n",
    "    km=KMeans(n_clusters = k)\n",
    "    km.fit_predict(x)\n",
    "    sse.append(km.inertia_)"
   ]
  },
  {
   "cell_type": "code",
   "execution_count": 9,
   "id": "1265e7b4",
   "metadata": {},
   "outputs": [
    {
     "name": "stdout",
     "output_type": "stream",
     "text": [
      "[15556783475819.172, 4376800393974.03, 1957919910850.387, 917589780858.4501, 688437805805.1589, 484709256239.191, 329802201022.2647, 237322442580.64197, 157465382121.1333, 120769932423.56097, 98800660239.55493, 76428472427.99336, 61245145025.95546, 46832699609.64342]\n"
     ]
    }
   ],
   "source": [
    "print(sse)"
   ]
  },
  {
   "cell_type": "code",
   "execution_count": 10,
   "id": "7813da09",
   "metadata": {},
   "outputs": [],
   "source": [
    "import matplotlib.pyplot as plt\n"
   ]
  },
  {
   "cell_type": "code",
   "execution_count": 11,
   "id": "5f22d82a",
   "metadata": {},
   "outputs": [
    {
     "data": {
      "text/plain": [
       "[<matplotlib.lines.Line2D at 0x23330dec9d0>]"
      ]
     },
     "execution_count": 11,
     "metadata": {},
     "output_type": "execute_result"
    },
    {
     "data": {
      "image/png": "[encoded data removed]",
      "text/plain": [
       "<Figure size 640x480 with 1 Axes>"
      ]
     },
     "metadata": {},
     "output_type": "display_data"
    }
   ],
   "source": [
    "plt.ylabel('Inertia')\n",
    "plt.xlabel('Cluster')\n",
    "plt.grid()\n",
    "plt.xticks(range(1,15))\n",
    "plt.plot(range(1,15),sse,marker='.')"
   ]
  },
  {
   "cell_type": "code",
   "execution_count": 12,
   "id": "18a3f849",
   "metadata": {},
   "outputs": [],
   "source": [
    "y=df[['male_graduates']]"
   ]
  },
  {
   "cell_type": "code",
   "execution_count": 13,
   "id": "e91330f1",
   "metadata": {},
   "outputs": [],
   "source": [
    "cent = km.cluster_centers_"
   ]
  },
  {
   "cell_type": "code",
   "execution_count": 14,
   "id": "90032ead",
   "metadata": {},
   "outputs": [
    {
     "name": "stderr",
     "output_type": "stream",
     "text": [
      "C:\\Users\\dmwad\\anaconda3\\Lib\\site-packages\\sklearn\\cluster\\_kmeans.py:870: FutureWarning: The default value of `n_init` will change from 10 to 'auto' in 1.4. Set the value of `n_init` explicitly to suppress the warning\n",
      "  warnings.warn(\n",
      "C:\\Users\\dmwad\\anaconda3\\Lib\\site-packages\\sklearn\\cluster\\_kmeans.py:1382: UserWarning: KMeans is known to have a memory leak on Windows with MKL, when there are less chunks than available threads. You can avoid it by setting the environment variable OMP_NUM_THREADS=2.\n",
      "  warnings.warn(\n",
      "C:\\Users\\dmwad\\anaconda3\\Lib\\site-packages\\sklearn\\cluster\\_kmeans.py:870: FutureWarning: The default value of `n_init` will change from 10 to 'auto' in 1.4. Set the value of `n_init` explicitly to suppress the warning\n",
      "  warnings.warn(\n",
      "C:\\Users\\dmwad\\anaconda3\\Lib\\site-packages\\sklearn\\cluster\\_kmeans.py:1382: UserWarning: KMeans is known to have a memory leak on Windows with MKL, when there are less chunks than available threads. You can avoid it by setting the environment variable OMP_NUM_THREADS=2.\n",
      "  warnings.warn(\n"
     ]
    },
    {
     "data": {
      "text/plain": [
       "<matplotlib.collections.PathCollection at 0x2332aa15c10>"
      ]
     },
     "execution_count": 14,
     "metadata": {},
     "output_type": "execute_result"
    },
    {
     "data": {
      "image/png": "[encoded data removed]",
      "text/plain": [
       "<Figure size 640x480 with 2 Axes>"
      ]
     },
     "metadata": {},
     "output_type": "display_data"
    }
   ],
   "source": [
    "plt.subplot(1,2,1)\n",
    "km = KMeans(n_clusters = 4,random_state=0)\n",
    "labels = km.fit_predict(x)\n",
    "plt.scatter(x['total_graduates'],y['male_graduates'])\n",
    "\n",
    "plt.subplot(1,2,2)\n",
    "km = KMeans(n_clusters = 4,random_state=0)\n",
    "labels = km.fit_predict(x)\n",
    "plt.scatter(x['total_graduates'],y['male_graduates'],c = labels)\n",
    "plt.scatter(cent[:],cent[:],s=100,color='red')"
   ]
  },
  {
   "cell_type": "code",
   "execution_count": 15,
   "id": "8880d56a",
   "metadata": {},
   "outputs": [],
   "source": [
    "x1=df[['total_graduates']]\n",
    "y1=df[['state_code']]"
   ]
  },
  {
   "cell_type": "code",
   "execution_count": 16,
   "id": "9a1cac59",
   "metadata": {},
   "outputs": [
    {
     "data": {
      "text/plain": [
       "<matplotlib.collections.PathCollection at 0x2332aa66ad0>"
      ]
     },
     "execution_count": 16,
     "metadata": {},
     "output_type": "execute_result"
    },
    {
     "data": {
      "image/png": "[encoded data removed]",
      "text/plain": [
       "<Figure size 640x480 with 1 Axes>"
      ]
     },
     "metadata": {},
     "output_type": "display_data"
    }
   ],
   "source": [
    "plt.scatter(x1,y1)"
   ]
  },
  {
   "cell_type": "code",
   "execution_count": 17,
   "id": "9dc415b7",
   "metadata": {},
   "outputs": [
    {
     "name": "stderr",
     "output_type": "stream",
     "text": [
      "C:\\Users\\dmwad\\anaconda3\\Lib\\site-packages\\sklearn\\cluster\\_kmeans.py:870: FutureWarning: The default value of `n_init` will change from 10 to 'auto' in 1.4. Set the value of `n_init` explicitly to suppress the warning\n",
      "  warnings.warn(\n",
      "C:\\Users\\dmwad\\anaconda3\\Lib\\site-packages\\sklearn\\cluster\\_kmeans.py:1382: UserWarning: KMeans is known to have a memory leak on Windows with MKL, when there are less chunks than available threads. You can avoid it by setting the environment variable OMP_NUM_THREADS=2.\n",
      "  warnings.warn(\n"
     ]
    },
    {
     "data": {
      "text/plain": [
       "<matplotlib.collections.PathCollection at 0x23330fb0190>"
      ]
     },
     "execution_count": 17,
     "metadata": {},
     "output_type": "execute_result"
    },
    {
     "data": {
      "image/png": "[encoded data removed]",
      "text/plain": [
       "<Figure size 640x480 with 1 Axes>"
      ]
     },
     "metadata": {},
     "output_type": "display_data"
    }
   ],
   "source": [
    "plt.subplot(1,2,1)\n",
    "km = KMeans(n_clusters = 4,random_state=0)\n",
    "labels = km.fit_predict(x1)\n",
    "plt.scatter(x1,y1)\n"
   ]
  },
  {
   "cell_type": "code",
   "execution_count": 18,
   "id": "4922d7b2",
   "metadata": {},
   "outputs": [
    {
     "name": "stderr",
     "output_type": "stream",
     "text": [
      "C:\\Users\\dmwad\\anaconda3\\Lib\\site-packages\\sklearn\\cluster\\_kmeans.py:870: FutureWarning: The default value of `n_init` will change from 10 to 'auto' in 1.4. Set the value of `n_init` explicitly to suppress the warning\n",
      "  warnings.warn(\n",
      "C:\\Users\\dmwad\\anaconda3\\Lib\\site-packages\\sklearn\\cluster\\_kmeans.py:1382: UserWarning: KMeans is known to have a memory leak on Windows with MKL, when there are less chunks than available threads. You can avoid it by setting the environment variable OMP_NUM_THREADS=2.\n",
      "  warnings.warn(\n"
     ]
    },
    {
     "data": {
      "text/plain": [
       "<matplotlib.collections.PathCollection at 0x2332aa15810>"
      ]
     },
     "execution_count": 18,
     "metadata": {},
     "output_type": "execute_result"
    },
    {
     "data": {
      "image/png": "[encoded data removed]",
      "text/plain": [
       "<Figure size 640x480 with 1 Axes>"
      ]
     },
     "metadata": {},
     "output_type": "display_data"
    }
   ],
   "source": [
    "km = KMeans(n_clusters=4,random_state=0)\n",
    "l = km.fit_predict(x1)\n",
    "plt.scatter(x1,y1,c=l)"
   ]
  },
  {
   "cell_type": "code",
   "execution_count": null,
   "id": "6c11ed87",
   "metadata": {},
   "outputs": [],
   "source": []
  },
  {
   "cell_type": "code",
   "execution_count": null,
   "id": "2b706c98",
   "metadata": {},
   "outputs": [],
   "source": []
  }
 ],
 "metadata": {
  "kernelspec": {
   "display_name": "Python 3 (ipykernel)",
   "language": "python",
   "name": "python3"
  },
  "language_info": {
   "codemirror_mode": {
    "name": "ipython",
    "version": 3
   },
   "file_extension": ".py",
   "mimetype": "text/x-python",
   "name": "python",
   "nbconvert_exporter": "python",
   "pygments_lexer": "ipython3",
   "version": "3.11.3"
  }
 },
 "nbformat": 4,
 "nbformat_minor": 5
}
