{
 "cells": [
  {
   "cell_type": "markdown",
   "id": "f3b82d3e",
   "metadata": {
    "papermill": {
     "duration": 0.006884,
     "end_time": "2023-11-15T10:06:18.629239",
     "exception": false,
     "start_time": "2023-11-15T10:06:18.622355",
     "status": "completed"
    },
    "tags": []
   },
   "source": [
    "# Importing the Necessary Libraries"
   ]
  },
  {
   "cell_type": "code",
   "execution_count": 1,
   "id": "5e24c642",
   "metadata": {
    "_cell_guid": "b1076dfc-b9ad-4769-8c92-a6c4dae69d19",
    "_uuid": "8f2839f25d086af736a60e9eeb907d3b93b6e0e5",
    "execution": {
     "iopub.execute_input": "2023-11-15T10:06:18.644327Z",
     "iopub.status.busy": "2023-11-15T10:06:18.643826Z",
     "iopub.status.idle": "2023-11-15T10:06:19.136503Z",
     "shell.execute_reply": "2023-11-15T10:06:19.135147Z"
    },
    "papermill": {
     "duration": 0.50367,
     "end_time": "2023-11-15T10:06:19.139538",
     "exception": false,
     "start_time": "2023-11-15T10:06:18.635868",
     "status": "completed"
    },
    "tags": []
   },
   "outputs": [
    {
     "name": "stdout",
     "output_type": "stream",
     "text": [
      "/kaggle/input/social-network-ads/Social_Network_Ads.csv\n"
     ]
    }
   ],
   "source": [
    "import numpy as np # linear algebra\n",
    "import pandas as pd # data processing, CSV file I/O (e.g. pd.read_csv)\n",
    "import matplotlib.pyplot as plt\n",
    "%matplotlib inline\n",
    "\n",
    "import os\n",
    "for dirname, _, filenames in os.walk('/kaggle/input'):\n",
    "    for filename in filenames:\n",
    "        print(os.path.join(dirname, filename))"
   ]
  },
  {
   "cell_type": "markdown",
   "id": "5b5ec482",
   "metadata": {
    "papermill": {
     "duration": 0.006131,
     "end_time": "2023-11-15T10:06:19.152206",
     "exception": false,
     "start_time": "2023-11-15T10:06:19.146075",
     "status": "completed"
    },
    "tags": []
   },
   "source": [
    "# Data Importation and Exploration"
   ]
  },
  {
   "cell_type": "code",
   "execution_count": 2,
   "id": "eafcbb51",
   "metadata": {
    "execution": {
     "iopub.execute_input": "2023-11-15T10:06:19.167821Z",
     "iopub.status.busy": "2023-11-15T10:06:19.167217Z",
     "iopub.status.idle": "2023-11-15T10:06:19.210196Z",
     "shell.execute_reply": "2023-11-15T10:06:19.208924Z"
    },
    "papermill": {
     "duration": 0.054387,
     "end_time": "2023-11-15T10:06:19.213241",
     "exception": false,
     "start_time": "2023-11-15T10:06:19.158854",
     "status": "completed"
    },
    "tags": []
   },
   "outputs": [
    {
     "data": {
      "text/html": [
       "<div>\n",
       "<style scoped>\n",
       "    .dataframe tbody tr th:only-of-type {\n",
       "        vertical-align: middle;\n",
       "    }\n",
       "\n",
       "    .dataframe tbody tr th {\n",
       "        vertical-align: top;\n",
       "    }\n",
       "\n",
       "    .dataframe thead th {\n",
       "        text-align: right;\n",
       "    }\n",
       "</style>\n",
       "<table border=\"1\" class=\"dataframe\">\n",
       "  <thead>\n",
       "    <tr style=\"text-align: right;\">\n",
       "      <th></th>\n",
       "      <th>User ID</th>\n",
       "      <th>Gender</th>\n",
       "      <th>Age</th>\n",
       "      <th>EstimatedSalary</th>\n",
       "      <th>Purchased</th>\n",
       "    </tr>\n",
       "  </thead>\n",
       "  <tbody>\n",
       "    <tr>\n",
       "      <th>0</th>\n",
       "      <td>15624510</td>\n",
       "      <td>Male</td>\n",
       "      <td>19</td>\n",
       "      <td>19000</td>\n",
       "      <td>0</td>\n",
       "    </tr>\n",
       "    <tr>\n",
       "      <th>1</th>\n",
       "      <td>15810944</td>\n",
       "      <td>Male</td>\n",
       "      <td>35</td>\n",
       "      <td>20000</td>\n",
       "      <td>0</td>\n",
       "    </tr>\n",
       "    <tr>\n",
       "      <th>2</th>\n",
       "      <td>15668575</td>\n",
       "      <td>Female</td>\n",
       "      <td>26</td>\n",
       "      <td>43000</td>\n",
       "      <td>0</td>\n",
       "    </tr>\n",
       "    <tr>\n",
       "      <th>3</th>\n",
       "      <td>15603246</td>\n",
       "      <td>Female</td>\n",
       "      <td>27</td>\n",
       "      <td>57000</td>\n",
       "      <td>0</td>\n",
       "    </tr>\n",
       "    <tr>\n",
       "      <th>4</th>\n",
       "      <td>15804002</td>\n",
       "      <td>Male</td>\n",
       "      <td>19</td>\n",
       "      <td>76000</td>\n",
       "      <td>0</td>\n",
       "    </tr>\n",
       "  </tbody>\n",
       "</table>\n",
       "</div>"
      ],
      "text/plain": [
       "    User ID  Gender  Age  EstimatedSalary  Purchased\n",
       "0  15624510    Male   19            19000          0\n",
       "1  15810944    Male   35            20000          0\n",
       "2  15668575  Female   26            43000          0\n",
       "3  15603246  Female   27            57000          0\n",
       "4  15804002    Male   19            76000          0"
      ]
     },
     "execution_count": 2,
     "metadata": {},
     "output_type": "execute_result"
    }
   ],
   "source": [
    "# Loading and previewing our dataset\n",
    "social_df = pd.read_csv('/kaggle/input/social-network-ads/Social_Network_Ads.csv')\n",
    "social_df.head()"
   ]
  },
  {
   "cell_type": "code",
   "execution_count": 3,
   "id": "d3f2805b",
   "metadata": {
    "execution": {
     "iopub.execute_input": "2023-11-15T10:06:19.229101Z",
     "iopub.status.busy": "2023-11-15T10:06:19.228678Z",
     "iopub.status.idle": "2023-11-15T10:06:19.235820Z",
     "shell.execute_reply": "2023-11-15T10:06:19.234668Z"
    },
    "papermill": {
     "duration": 0.01813,
     "end_time": "2023-11-15T10:06:19.238210",
     "exception": false,
     "start_time": "2023-11-15T10:06:19.220080",
     "status": "completed"
    },
    "tags": []
   },
   "outputs": [
    {
     "data": {
      "text/plain": [
       "(400, 5)"
      ]
     },
     "execution_count": 3,
     "metadata": {},
     "output_type": "execute_result"
    }
   ],
   "source": [
    "# Determining the size of our dataset\n",
    "social_df.shape"
   ]
  },
  {
   "cell_type": "markdown",
   "id": "4748ad78",
   "metadata": {
    "papermill": {
     "duration": 0.006622,
     "end_time": "2023-11-15T10:06:19.251765",
     "exception": false,
     "start_time": "2023-11-15T10:06:19.245143",
     "status": "completed"
    },
    "tags": []
   },
   "source": [
    "# Data Preparation"
   ]
  },
  {
   "cell_type": "code",
   "execution_count": 4,
   "id": "0fbf96ac",
   "metadata": {
    "execution": {
     "iopub.execute_input": "2023-11-15T10:06:19.269041Z",
     "iopub.status.busy": "2023-11-15T10:06:19.268202Z",
     "iopub.status.idle": "2023-11-15T10:06:19.281619Z",
     "shell.execute_reply": "2023-11-15T10:06:19.280177Z"
    },
    "papermill": {
     "duration": 0.025337,
     "end_time": "2023-11-15T10:06:19.284499",
     "exception": false,
     "start_time": "2023-11-15T10:06:19.259162",
     "status": "completed"
    },
    "tags": []
   },
   "outputs": [
    {
     "data": {
      "text/html": [
       "<div>\n",
       "<style scoped>\n",
       "    .dataframe tbody tr th:only-of-type {\n",
       "        vertical-align: middle;\n",
       "    }\n",
       "\n",
       "    .dataframe tbody tr th {\n",
       "        vertical-align: top;\n",
       "    }\n",
       "\n",
       "    .dataframe thead th {\n",
       "        text-align: right;\n",
       "    }\n",
       "</style>\n",
       "<table border=\"1\" class=\"dataframe\">\n",
       "  <thead>\n",
       "    <tr style=\"text-align: right;\">\n",
       "      <th></th>\n",
       "      <th>User ID</th>\n",
       "      <th>Gender</th>\n",
       "      <th>Age</th>\n",
       "      <th>EstimatedSalary</th>\n",
       "      <th>Purchased</th>\n",
       "    </tr>\n",
       "  </thead>\n",
       "  <tbody>\n",
       "    <tr>\n",
       "      <th>0</th>\n",
       "      <td>15624510</td>\n",
       "      <td>1</td>\n",
       "      <td>19</td>\n",
       "      <td>19000</td>\n",
       "      <td>0</td>\n",
       "    </tr>\n",
       "    <tr>\n",
       "      <th>1</th>\n",
       "      <td>15810944</td>\n",
       "      <td>1</td>\n",
       "      <td>35</td>\n",
       "      <td>20000</td>\n",
       "      <td>0</td>\n",
       "    </tr>\n",
       "    <tr>\n",
       "      <th>2</th>\n",
       "      <td>15668575</td>\n",
       "      <td>0</td>\n",
       "      <td>26</td>\n",
       "      <td>43000</td>\n",
       "      <td>0</td>\n",
       "    </tr>\n",
       "    <tr>\n",
       "      <th>3</th>\n",
       "      <td>15603246</td>\n",
       "      <td>0</td>\n",
       "      <td>27</td>\n",
       "      <td>57000</td>\n",
       "      <td>0</td>\n",
       "    </tr>\n",
       "    <tr>\n",
       "      <th>4</th>\n",
       "      <td>15804002</td>\n",
       "      <td>1</td>\n",
       "      <td>19</td>\n",
       "      <td>76000</td>\n",
       "      <td>0</td>\n",
       "    </tr>\n",
       "  </tbody>\n",
       "</table>\n",
       "</div>"
      ],
      "text/plain": [
       "    User ID  Gender  Age  EstimatedSalary  Purchased\n",
       "0  15624510       1   19            19000          0\n",
       "1  15810944       1   35            20000          0\n",
       "2  15668575       0   26            43000          0\n",
       "3  15603246       0   27            57000          0\n",
       "4  15804002       1   19            76000          0"
      ]
     },
     "execution_count": 4,
     "metadata": {},
     "output_type": "execute_result"
    }
   ],
   "source": [
    "social_df[\"Gender\"] = np.where(social_df[\"Gender\"].str.contains(\"Male\", \"Female\"), 1, 0)\n",
    "social_df.head()"
   ]
  },
  {
   "cell_type": "markdown",
   "id": "cf16c067",
   "metadata": {
    "papermill": {
     "duration": 0.006682,
     "end_time": "2023-11-15T10:06:19.298465",
     "exception": false,
     "start_time": "2023-11-15T10:06:19.291783",
     "status": "completed"
    },
    "tags": []
   },
   "source": [
    "# Data Modeling"
   ]
  },
  {
   "cell_type": "code",
   "execution_count": 5,
   "id": "e4e5b13d",
   "metadata": {
    "execution": {
     "iopub.execute_input": "2023-11-15T10:06:19.315015Z",
     "iopub.status.busy": "2023-11-15T10:06:19.314514Z",
     "iopub.status.idle": "2023-11-15T10:06:19.328500Z",
     "shell.execute_reply": "2023-11-15T10:06:19.327090Z"
    },
    "papermill": {
     "duration": 0.025459,
     "end_time": "2023-11-15T10:06:19.331084",
     "exception": false,
     "start_time": "2023-11-15T10:06:19.305625",
     "status": "completed"
    },
    "tags": []
   },
   "outputs": [],
   "source": [
    "# Preparing our dataset for training\n",
    "X = social_df.iloc[:, [1, 2 ,3]].values\n",
    "y = social_df.iloc[:, 4].values"
   ]
  },
  {
   "cell_type": "code",
   "execution_count": 6,
   "id": "c838b773",
   "metadata": {
    "execution": {
     "iopub.execute_input": "2023-11-15T10:06:19.348320Z",
     "iopub.status.busy": "2023-11-15T10:06:19.347458Z",
     "iopub.status.idle": "2023-11-15T10:06:20.883910Z",
     "shell.execute_reply": "2023-11-15T10:06:20.882518Z"
    },
    "papermill": {
     "duration": 1.548828,
     "end_time": "2023-11-15T10:06:20.887372",
     "exception": false,
     "start_time": "2023-11-15T10:06:19.338544",
     "status": "completed"
    },
    "tags": []
   },
   "outputs": [],
   "source": [
    "# Splitting the dataset into a training set and test set\n",
    "from sklearn.model_selection import train_test_split\n",
    "X_train, X_test, y_train, y_test = train_test_split(X, y, test_size = 0.25, random_state = 42)"
   ]
  },
  {
   "cell_type": "code",
   "execution_count": 7,
   "id": "86cd95db",
   "metadata": {
    "execution": {
     "iopub.execute_input": "2023-11-15T10:06:20.904664Z",
     "iopub.status.busy": "2023-11-15T10:06:20.904181Z",
     "iopub.status.idle": "2023-11-15T10:06:20.912505Z",
     "shell.execute_reply": "2023-11-15T10:06:20.911251Z"
    },
    "papermill": {
     "duration": 0.019977,
     "end_time": "2023-11-15T10:06:20.915117",
     "exception": false,
     "start_time": "2023-11-15T10:06:20.895140",
     "status": "completed"
    },
    "tags": []
   },
   "outputs": [],
   "source": [
    "# Normalisation\n",
    "from sklearn.preprocessing import MinMaxScaler\n",
    "norm = MinMaxScaler().fit(X_train)\n",
    "X_train = norm.transform(X_train)\n",
    "X_test = norm.transform(X_test)"
   ]
  },
  {
   "cell_type": "code",
   "execution_count": 8,
   "id": "25c52280",
   "metadata": {
    "execution": {
     "iopub.execute_input": "2023-11-15T10:06:20.931705Z",
     "iopub.status.busy": "2023-11-15T10:06:20.931238Z",
     "iopub.status.idle": "2023-11-15T10:06:21.307045Z",
     "shell.execute_reply": "2023-11-15T10:06:21.305796Z"
    },
    "papermill": {
     "duration": 0.387534,
     "end_time": "2023-11-15T10:06:21.309839",
     "exception": false,
     "start_time": "2023-11-15T10:06:20.922305",
     "status": "completed"
    },
    "tags": []
   },
   "outputs": [
    {
     "data": {
      "text/html": [
       "<style>#sk-container-id-1 {color: black;background-color: white;}#sk-container-id-1 pre{padding: 0;}#sk-container-id-1 div.sk-toggleable {background-color: white;}#sk-container-id-1 label.sk-toggleable__label {cursor: pointer;display: block;width: 100%;margin-bottom: 0;padding: 0.3em;box-sizing: border-box;text-align: center;}#sk-container-id-1 label.sk-toggleable__label-arrow:before {content: \"▸\";float: left;margin-right: 0.25em;color: #696969;}#sk-container-id-1 label.sk-toggleable__label-arrow:hover:before {color: black;}#sk-container-id-1 div.sk-estimator:hover label.sk-toggleable__label-arrow:before {color: black;}#sk-container-id-1 div.sk-toggleable__content {max-height: 0;max-width: 0;overflow: hidden;text-align: left;background-color: #f0f8ff;}#sk-container-id-1 div.sk-toggleable__content pre {margin: 0.2em;color: black;border-radius: 0.25em;background-color: #f0f8ff;}#sk-container-id-1 input.sk-toggleable__control:checked~div.sk-toggleable__content {max-height: 200px;max-width: 100%;overflow: auto;}#sk-container-id-1 input.sk-toggleable__control:checked~label.sk-toggleable__label-arrow:before {content: \"▾\";}#sk-container-id-1 div.sk-estimator input.sk-toggleable__control:checked~label.sk-toggleable__label {background-color: #d4ebff;}#sk-container-id-1 div.sk-label input.sk-toggleable__control:checked~label.sk-toggleable__label {background-color: #d4ebff;}#sk-container-id-1 input.sk-hidden--visually {border: 0;clip: rect(1px 1px 1px 1px);clip: rect(1px, 1px, 1px, 1px);height: 1px;margin: -1px;overflow: hidden;padding: 0;position: absolute;width: 1px;}#sk-container-id-1 div.sk-estimator {font-family: monospace;background-color: #f0f8ff;border: 1px dotted black;border-radius: 0.25em;box-sizing: border-box;margin-bottom: 0.5em;}#sk-container-id-1 div.sk-estimator:hover {background-color: #d4ebff;}#sk-container-id-1 div.sk-parallel-item::after {content: \"\";width: 100%;border-bottom: 1px solid gray;flex-grow: 1;}#sk-container-id-1 div.sk-label:hover label.sk-toggleable__label {background-color: #d4ebff;}#sk-container-id-1 div.sk-serial::before {content: \"\";position: absolute;border-left: 1px solid gray;box-sizing: border-box;top: 0;bottom: 0;left: 50%;z-index: 0;}#sk-container-id-1 div.sk-serial {display: flex;flex-direction: column;align-items: center;background-color: white;padding-right: 0.2em;padding-left: 0.2em;position: relative;}#sk-container-id-1 div.sk-item {position: relative;z-index: 1;}#sk-container-id-1 div.sk-parallel {display: flex;align-items: stretch;justify-content: center;background-color: white;position: relative;}#sk-container-id-1 div.sk-item::before, #sk-container-id-1 div.sk-parallel-item::before {content: \"\";position: absolute;border-left: 1px solid gray;box-sizing: border-box;top: 0;bottom: 0;left: 50%;z-index: -1;}#sk-container-id-1 div.sk-parallel-item {display: flex;flex-direction: column;z-index: 1;position: relative;background-color: white;}#sk-container-id-1 div.sk-parallel-item:first-child::after {align-self: flex-end;width: 50%;}#sk-container-id-1 div.sk-parallel-item:last-child::after {align-self: flex-start;width: 50%;}#sk-container-id-1 div.sk-parallel-item:only-child::after {width: 0;}#sk-container-id-1 div.sk-dashed-wrapped {border: 1px dashed gray;margin: 0 0.4em 0.5em 0.4em;box-sizing: border-box;padding-bottom: 0.4em;background-color: white;}#sk-container-id-1 div.sk-label label {font-family: monospace;font-weight: bold;display: inline-block;line-height: 1.2em;}#sk-container-id-1 div.sk-label-container {text-align: center;}#sk-container-id-1 div.sk-container {/* jupyter's `normalize.less` sets `[hidden] { display: none; }` but bootstrap.min.css set `[hidden] { display: none !important; }` so we also need the `!important` here to be able to override the default hidden behavior on the sphinx rendered scikit-learn.org. See: https://github.com/scikit-learn/scikit-learn/issues/21755 */display: inline-block !important;position: relative;}#sk-container-id-1 div.sk-text-repr-fallback {display: none;}</style><div id=\"sk-container-id-1\" class=\"sk-top-container\"><div class=\"sk-text-repr-fallback\"><pre>GaussianNB()</pre><b>In a Jupyter environment, please rerun this cell to show the HTML representation or trust the notebook. <br />On GitHub, the HTML representation is unable to render, please try loading this page with nbviewer.org.</b></div><div class=\"sk-container\" hidden><div class=\"sk-item\"><div class=\"sk-estimator sk-toggleable\"><input class=\"sk-toggleable__control sk-hidden--visually\" id=\"sk-estimator-id-1\" type=\"checkbox\" checked><label for=\"sk-estimator-id-1\" class=\"sk-toggleable__label sk-toggleable__label-arrow\">GaussianNB</label><div class=\"sk-toggleable__content\"><pre>GaussianNB()</pre></div></div></div></div></div>"
      ],
      "text/plain": [
       "GaussianNB()"
      ]
     },
     "execution_count": 8,
     "metadata": {},
     "output_type": "execute_result"
    }
   ],
   "source": [
    "# Comparing how the different classification algorithms will perform\n",
    "from sklearn.linear_model import LogisticRegression\n",
    "from sklearn.tree import DecisionTreeClassifier\n",
    "from sklearn.svm import SVC\n",
    "from sklearn.naive_bayes import GaussianNB\n",
    "from sklearn.neighbors import KNeighborsClassifier\n",
    "\n",
    "logistic_classifier = LogisticRegression()\n",
    "decision_classifier = DecisionTreeClassifier()\n",
    "svm_classifier = SVC()\n",
    "knn_classifier = KNeighborsClassifier()\n",
    "naive_classifier = GaussianNB()\n",
    "\n",
    "# Using these classifiers to fit our data, X_train and y_train\n",
    "logistic_classifier.fit(X_train, y_train)\n",
    "decision_classifier.fit(X_train, y_train)\n",
    "svm_classifier.fit(X_train, y_train)\n",
    "knn_classifier.fit(X_train, y_train)\n",
    "naive_classifier.fit(X_train, y_train)"
   ]
  },
  {
   "cell_type": "code",
   "execution_count": 9,
   "id": "c6bee02a",
   "metadata": {
    "execution": {
     "iopub.execute_input": "2023-11-15T10:06:21.327629Z",
     "iopub.status.busy": "2023-11-15T10:06:21.326254Z",
     "iopub.status.idle": "2023-11-15T10:06:21.346096Z",
     "shell.execute_reply": "2023-11-15T10:06:21.344450Z"
    },
    "papermill": {
     "duration": 0.032167,
     "end_time": "2023-11-15T10:06:21.349393",
     "exception": false,
     "start_time": "2023-11-15T10:06:21.317226",
     "status": "completed"
    },
    "tags": []
   },
   "outputs": [],
   "source": [
    "# Predicting the test set results\n",
    "logistic_y_prediction = logistic_classifier.predict(X_test)\n",
    "decision_y_prediction = decision_classifier.predict(X_test)\n",
    "svm_y_prediction = svm_classifier.predict(X_test)\n",
    "knn_y_prediction = knn_classifier.predict(X_test)\n",
    "naive_y_prediction = naive_classifier.predict(X_test)"
   ]
  },
  {
   "cell_type": "code",
   "execution_count": 10,
   "id": "182c2ea0",
   "metadata": {
    "execution": {
     "iopub.execute_input": "2023-11-15T10:06:21.367287Z",
     "iopub.status.busy": "2023-11-15T10:06:21.366240Z",
     "iopub.status.idle": "2023-11-15T10:06:21.380013Z",
     "shell.execute_reply": "2023-11-15T10:06:21.378576Z"
    },
    "papermill": {
     "duration": 0.025743,
     "end_time": "2023-11-15T10:06:21.382811",
     "exception": false,
     "start_time": "2023-11-15T10:06:21.357068",
     "status": "completed"
    },
    "tags": []
   },
   "outputs": [
    {
     "name": "stdout",
     "output_type": "stream",
     "text": [
      "0.87\n",
      "0.84\n",
      "0.94\n",
      "0.92\n",
      "0.93\n"
     ]
    }
   ],
   "source": [
    "# Printing the evaluation metrics to determine the accuracy of classifiers\n",
    "from sklearn.metrics import classification_report, accuracy_score\n",
    "\n",
    "print(accuracy_score(logistic_y_prediction, y_test))\n",
    "print(accuracy_score(decision_y_prediction, y_test))\n",
    "print(accuracy_score(svm_y_prediction, y_test))\n",
    "print(accuracy_score(knn_y_prediction, y_test))\n",
    "print(accuracy_score(naive_y_prediction, y_test))"
   ]
  },
  {
   "cell_type": "code",
   "execution_count": 11,
   "id": "3ca30668",
   "metadata": {
    "execution": {
     "iopub.execute_input": "2023-11-15T10:06:21.401238Z",
     "iopub.status.busy": "2023-11-15T10:06:21.400748Z",
     "iopub.status.idle": "2023-11-15T10:06:21.449896Z",
     "shell.execute_reply": "2023-11-15T10:06:21.448485Z"
    },
    "papermill": {
     "duration": 0.062419,
     "end_time": "2023-11-15T10:06:21.453083",
     "exception": false,
     "start_time": "2023-11-15T10:06:21.390664",
     "status": "completed"
    },
    "tags": []
   },
   "outputs": [
    {
     "name": "stdout",
     "output_type": "stream",
     "text": [
      "Logistic classifier:\n",
      "              precision    recall  f1-score   support\n",
      "\n",
      "           0       0.84      0.98      0.91        63\n",
      "           1       0.96      0.68      0.79        37\n",
      "\n",
      "    accuracy                           0.87       100\n",
      "   macro avg       0.90      0.83      0.85       100\n",
      "weighted avg       0.88      0.87      0.86       100\n",
      "\n",
      "Decision Tree classifier:\n",
      "              precision    recall  f1-score   support\n",
      "\n",
      "           0       0.86      0.89      0.88        63\n",
      "           1       0.80      0.76      0.78        37\n",
      "\n",
      "    accuracy                           0.84       100\n",
      "   macro avg       0.83      0.82      0.83       100\n",
      "weighted avg       0.84      0.84      0.84       100\n",
      "\n",
      "SVM Classifier:\n",
      "              precision    recall  f1-score   support\n",
      "\n",
      "           0       0.97      0.94      0.95        63\n",
      "           1       0.90      0.95      0.92        37\n",
      "\n",
      "    accuracy                           0.94       100\n",
      "   macro avg       0.93      0.94      0.94       100\n",
      "weighted avg       0.94      0.94      0.94       100\n",
      "\n",
      "KNN Classifier:\n",
      "              precision    recall  f1-score   support\n",
      "\n",
      "           0       0.95      0.92      0.94        63\n",
      "           1       0.87      0.92      0.89        37\n",
      "\n",
      "    accuracy                           0.92       100\n",
      "   macro avg       0.91      0.92      0.92       100\n",
      "weighted avg       0.92      0.92      0.92       100\n",
      "\n",
      "Naive Bayes Classifier:\n",
      "              precision    recall  f1-score   support\n",
      "\n",
      "           0       0.92      0.97      0.95        63\n",
      "           1       0.94      0.86      0.90        37\n",
      "\n",
      "    accuracy                           0.93       100\n",
      "   macro avg       0.93      0.92      0.92       100\n",
      "weighted avg       0.93      0.93      0.93       100\n",
      "\n"
     ]
    }
   ],
   "source": [
    "# Printing the classification report\n",
    "print('Logistic classifier:')\n",
    "print(classification_report(y_test, logistic_y_prediction))\n",
    "\n",
    "print('Decision Tree classifier:')\n",
    "print(classification_report(y_test, decision_y_prediction))\n",
    "\n",
    "print('SVM Classifier:')\n",
    "print(classification_report(y_test, svm_y_prediction))\n",
    "\n",
    "print('KNN Classifier:')\n",
    "print(classification_report(y_test, knn_y_prediction))\n",
    "\n",
    "print('Naive Bayes Classifier:')\n",
    "print(classification_report(y_test, naive_y_prediction))"
   ]
  },
  {
   "cell_type": "code",
   "execution_count": 12,
   "id": "c2706a57",
   "metadata": {
    "execution": {
     "iopub.execute_input": "2023-11-15T10:06:21.470720Z",
     "iopub.status.busy": "2023-11-15T10:06:21.470269Z",
     "iopub.status.idle": "2023-11-15T10:06:21.484937Z",
     "shell.execute_reply": "2023-11-15T10:06:21.483661Z"
    },
    "papermill": {
     "duration": 0.026803,
     "end_time": "2023-11-15T10:06:21.487586",
     "exception": false,
     "start_time": "2023-11-15T10:06:21.460783",
     "status": "completed"
    },
    "tags": []
   },
   "outputs": [
    {
     "name": "stdout",
     "output_type": "stream",
     "text": [
      "Logistic Regression classifier:\n",
      "[[62 12]\n",
      " [ 1 25]]\n",
      "Decision Tree classifier:\n",
      "[[56  9]\n",
      " [ 7 28]]\n",
      "KNN Classifier:\n",
      "[[58  3]\n",
      " [ 5 34]]\n",
      "SVM classifier:\n",
      "[[59  2]\n",
      " [ 4 35]]\n",
      "Naive Bayes classifier:\n",
      "[[61  5]\n",
      " [ 2 32]]\n"
     ]
    }
   ],
   "source": [
    "# Using a confusion matrix to determine the accuracy of our model\n",
    "from sklearn.metrics import confusion_matrix\n",
    "\n",
    "print('Logistic Regression classifier:')\n",
    "print(confusion_matrix(logistic_y_prediction, y_test))\n",
    "\n",
    "print('Decision Tree classifier:')\n",
    "print(confusion_matrix(decision_y_prediction, y_test))\n",
    "\n",
    "print('KNN Classifier:')\n",
    "print(confusion_matrix(knn_y_prediction, y_test))\n",
    "\n",
    "print('SVM classifier:')\n",
    "print(confusion_matrix(svm_y_prediction, y_test))\n",
    "\n",
    "print('Naive Bayes classifier:')\n",
    "print(confusion_matrix(naive_y_prediction, y_test))"
   ]
  },
  {
   "cell_type": "code",
   "execution_count": 13,
   "id": "c3753ad2",
   "metadata": {
    "execution": {
     "iopub.execute_input": "2023-11-15T10:06:21.506258Z",
     "iopub.status.busy": "2023-11-15T10:06:21.505786Z",
     "iopub.status.idle": "2023-11-15T10:06:21.520203Z",
     "shell.execute_reply": "2023-11-15T10:06:21.518404Z"
    },
    "papermill": {
     "duration": 0.02718,
     "end_time": "2023-11-15T10:06:21.523298",
     "exception": false,
     "start_time": "2023-11-15T10:06:21.496118",
     "status": "completed"
    },
    "tags": []
   },
   "outputs": [
    {
     "name": "stdout",
     "output_type": "stream",
     "text": [
      "Logistic Regression classifier [1]\n",
      "Decision Tree classifier: [1]\n",
      "SVM classifier: [1]\n",
      "KNN classifier: [1]\n",
      "Naive Bayes classifier: [1]\n"
     ]
    }
   ],
   "source": [
    "# Making a new prediction & comparing results\n",
    "new_case = [[0, 60, 2500]] # Gender, Age, Salary\n",
    "\n",
    "# We will need to transform our new case\n",
    "new_case = norm.transform(new_case)\n",
    "\n",
    "print('Logistic Regression classifier', logistic_classifier.predict(new_case))\n",
    "print('Decision Tree classifier:', decision_classifier.predict(new_case))\n",
    "print('SVM classifier:', svm_classifier.predict(new_case))\n",
    "print('KNN classifier:', knn_classifier.predict(new_case))\n",
    "print('Naive Bayes classifier:', naive_classifier.predict(new_case))"
   ]
  }
 ],
 "metadata": {
  "kaggle": {
   "accelerator": "none",
   "dataSources": [
    {
     "datasetId": 1846,
     "sourceId": 3197,
     "sourceType": "datasetVersion"
    }
   ],
   "dockerImageVersionId": 30579,
   "isGpuEnabled": false,
   "isInternetEnabled": true,
   "language": "python",
   "sourceType": "notebook"
  },
  "kernelspec": {
   "display_name": "Python 3",
   "language": "python",
   "name": "python3"
  },
  "language_info": {
   "codemirror_mode": {
    "name": "ipython",
    "version": 3
   },
   "file_extension": ".py",
   "mimetype": "text/x-python",
   "name": "python",
   "nbconvert_exporter": "python",
   "pygments_lexer": "ipython3",
   "version": "3.10.12"
  },
  "papermill": {
   "default_parameters": {},
   "duration": 7.366419,
   "end_time": "2023-11-15T10:06:22.254869",
   "environment_variables": {},
   "exception": null,
   "input_path": "__notebook__.ipynb",
   "output_path": "__notebook__.ipynb",
   "parameters": {},
   "start_time": "2023-11-15T10:06:14.888450",
   "version": "2.4.0"
  }
 },
 "nbformat": 4,
 "nbformat_minor": 5
}
